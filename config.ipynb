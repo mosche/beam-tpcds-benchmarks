{
 "cells": [
  {
   "cell_type": "code",
   "execution_count": null,
   "metadata": {},
   "outputs": [],
   "source": [
    "import os\n",
    "HOME_DIR = os.path.expanduser('~')\n",
    "\n",
    "BEAM_DIR = HOME_DIR + '/workspace/beam'\n",
    "BASE_DIR = HOME_DIR + '/workspace/beam-tpcds-benchmarks'\n",
    "CLASSPATH_DIR = BASE_DIR + '/cp'\n",
    "BENCHMARKS_DIR = BASE_DIR + '/benchmarks'\n",
    "\n",
    "TPCDS_DATA = HOME_DIR + '/tpcds/nonpartitioned'\n",
    "\n",
    "def check_path(path):\n",
    "    if not os.path.exists(path):\n",
    "        raise Exception(f'Please check settings in settings.ipynb: \"{path}\" does not exist.')\n",
    "\n",
    "check_path(BEAM_DIR)\n",
    "check_path(BASE_DIR)\n",
    "check_path(TPCDS_DATA)"
   ]
  }
 ],
 "metadata": {
  "language_info": {
   "name": "python"
  },
  "orig_nbformat": 4
 },
 "nbformat": 4,
 "nbformat_minor": 2
}
